{
 "cells": [
  {
   "cell_type": "markdown",
   "metadata": {},
   "source": [
    "# HW_06"
   ]
  },
  {
   "cell_type": "markdown",
   "metadata": {},
   "source": [
    "Напишите парсинг отзывов (и оценок) о банках с сайта banki.ru (http://www.banki.ru/services/responses/list/). На почту пришлите блокнот, названный HW06_Parser_Surname.ipynb, например, HW06_Parser_Irkhin.ipynb. В нём должен содержаться код, который собирает с banki.ru отзывы. Также пришлите json с собранными отзывами. Он должен представлять собой список словарей, в каждом словаре должны быть поля text с текстом отзыва и rating (int от 1 до 5). json должен называться HW06_Data_Surname.json.\n",
    "\n",
    "Любая дополнительная полезная информация об отзыве приветствуется и поощряется."
   ]
  },
  {
   "cell_type": "code",
   "execution_count": 17,
   "metadata": {},
   "outputs": [],
   "source": [
    "import requests\n",
    "import time\n",
    "from bs4 import BeautifulSoup\n",
    "import json"
   ]
  },
  {
   "cell_type": "markdown",
   "metadata": {},
   "source": [
    "Вытащим название class-ов для интересующих нас div-ов"
   ]
  },
  {
   "cell_type": "code",
   "execution_count": 28,
   "metadata": {},
   "outputs": [],
   "source": [
    "BANK = \"header-h2 display-inline margin-right-x-small\"\n",
    "RATING = \"color-gray-gray font-size-small margin-bottom-default margin-top-small\"\n",
    "TEXT = \"article-text response-page__text markup-inside-small markup-inside-small--bullet\"\n",
    "TITLE= \"header-h0 response-page__title\"\n",
    "CITY = \"response-page__bank-meta font-size-medium color-gray-burn\"\n",
    "PROFILE = \"link-with-icon__text color-gray-gray padding-right-xx-small\""
   ]
  },
  {
   "cell_type": "code",
   "execution_count": 77,
   "metadata": {},
   "outputs": [],
   "source": [
    "def get_info(obj):\n",
    "    text = obj.find(\"div\", attrs={\"class\": TEXT}).text.strip().replace('\\xa0', '')\n",
    "    bank = obj.find(\"div\", attrs={\"class\": BANK}).text.strip()\n",
    "    title = obj.find(\"h0\", attrs={\"class\": TITLE}).text.strip()\n",
    "    city = obj.find(\"div\", attrs={\"class\": CITY}).text.split(', ')\n",
    "    rating = obj.find(\"div\", attrs={\"class\": RATING}).text.strip()\n",
    "    profile = obj.find(\"span\", attrs={\"class\": PROFILE}).text.strip()\n",
    "    \n",
    "    return {\n",
    "        'bank': bank,\n",
    "        'city': city[1].split('.')[-1].strip() if len(city) > 1 else None,\n",
    "        'title': title,\n",
    "        'text': text,\n",
    "        'rating': None if 'БЕЗ ОЦЕНКИ' in rating else int(rating.split()[1]),\n",
    "        'profile': profile\n",
    "    }"
   ]
  },
  {
   "cell_type": "code",
   "execution_count": 78,
   "metadata": {},
   "outputs": [],
   "source": [
    "url_teamplate = 'http://www.banki.ru/services/responses/bank/response/{}/'\n",
    "last_index = 10159071 #Самый свежий отзыв, далее будем пробегаться по отзывам, каждый раз last_index--;"
   ]
  },
  {
   "cell_type": "code",
   "execution_count": 79,
   "metadata": {},
   "outputs": [
    {
     "name": "stdout",
     "output_type": "stream",
     "text": [
      "Error 404 at review with idex:  10159039\n",
      "Error 404 at review with idex:  10159038\n",
      "Error 404 at review with idex:  10159020\n",
      "Error 404 at review with idex:  10159008\n",
      "Error 404 at review with idex:  10158985\n",
      "Error 404 at review with idex:  10158979\n",
      "Wall time: 1min 45s\n"
     ]
    }
   ],
   "source": [
    "%%time\n",
    "url_teamplate\n",
    "for num in range(0, 100):\n",
    "    curr_index = last_index - num\n",
    "    url = url_teamplate.format(curr_index)\n",
    "    time.sleep(0.5)\n",
    "    response = requests.get(url)\n",
    "    if response.status_code == 404: print('Error 404 at review with idex: ', curr_index)\n",
    "    if response.status_code != 200: continue\n",
    "#     print('Status 200 at review with idex '.format(curr_index))\n",
    "    bs4_object = BeautifulSoup(response.text, \"html5lib\")\n",
    "    resp.append(get_info(bs4_object))"
   ]
  },
  {
   "cell_type": "code",
   "execution_count": 82,
   "metadata": {},
   "outputs": [],
   "source": [
    "import json\n",
    "\n",
    "with open('HW06_Data_NikiforovDmitry.json', 'w') as f:\n",
    "    json.dump(resp, f)"
   ]
  },
  {
   "cell_type": "markdown",
   "metadata": {},
   "source": [
    "Проитерировался по такому малому колич отзывов, потому что ноут стал нереально медленно работать в послю время:)"
   ]
  }
 ],
 "metadata": {
  "kernelspec": {
   "display_name": "Python 3",
   "language": "python",
   "name": "python3"
  },
  "language_info": {
   "codemirror_mode": {
    "name": "ipython",
    "version": 3
   },
   "file_extension": ".py",
   "mimetype": "text/x-python",
   "name": "python",
   "nbconvert_exporter": "python",
   "pygments_lexer": "ipython3",
   "version": "3.6.4"
  }
 },
 "nbformat": 4,
 "nbformat_minor": 2
}
